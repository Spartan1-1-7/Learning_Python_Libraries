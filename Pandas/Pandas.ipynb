{
 "cells": [
  {
   "cell_type": "code",
   "execution_count": 1,
   "metadata": {},
   "outputs": [
    {
     "data": {
      "text/plain": [
       "'2.2.2'"
      ]
     },
     "execution_count": 1,
     "metadata": {},
     "output_type": "execute_result"
    }
   ],
   "source": [
    "import pandas as pd\n",
    "pd.__version__"
   ]
  },
  {
   "cell_type": "code",
   "execution_count": 2,
   "metadata": {},
   "outputs": [
    {
     "name": "stdout",
     "output_type": "stream",
     "text": [
      "a    1\n",
      "b    7\n",
      "c    4\n",
      "dtype: int64\n"
     ]
    }
   ],
   "source": [
    "a=[1,7,4]\n",
    "mypro=pd.Series(a,index=('a','b','c'))\n",
    "print(mypro)"
   ]
  },
  {
   "cell_type": "code",
   "execution_count": 4,
   "metadata": {},
   "outputs": [
    {
     "name": "stdout",
     "output_type": "stream",
     "text": [
      "july       3000\n",
      "augusst    4000\n",
      "octuber    5000\n",
      "dtype: int64\n"
     ]
    }
   ],
   "source": [
    "sale={\"july\":3000, \"augusst\":4000,\"octuber\":5000}\n",
    "x=pd.Series(sale)\n",
    "print(x)"
   ]
  },
  {
   "cell_type": "code",
   "execution_count": 3,
   "metadata": {},
   "outputs": [
    {
     "name": "stdout",
     "output_type": "stream",
     "text": [
      "july       3000\n",
      "augusst    4000\n",
      "dtype: int64\n"
     ]
    }
   ],
   "source": [
    "sale={\"july\":3000, \"augusst\":4000,\"octuber\":5000}\n",
    "x=pd.Series(sale, index=['july','augusst'])\n",
    "print(x)"
   ]
  },
  {
   "cell_type": "code",
   "execution_count": 4,
   "metadata": {},
   "outputs": [
    {
     "name": "stdout",
     "output_type": "stream",
     "text": [
      "         profit  loss\n",
      "july        460   300\n",
      "august      400   100\n",
      "october     600   600\n"
     ]
    }
   ],
   "source": [
    "data={\"profit\":[460,400,600],'loss':[300,100,600]}\n",
    "y=pd.DataFrame(data, index=['july','august','october'])\n",
    "print(y)"
   ]
  },
  {
   "cell_type": "code",
   "execution_count": 5,
   "metadata": {},
   "outputs": [
    {
     "name": "stdout",
     "output_type": "stream",
     "text": [
      "profit    400\n",
      "loss      100\n",
      "Name: august, dtype: int64\n"
     ]
    }
   ],
   "source": [
    "print(y.loc['august'])"
   ]
  },
  {
   "cell_type": "code",
   "execution_count": 6,
   "metadata": {},
   "outputs": [
    {
     "name": "stdout",
     "output_type": "stream",
     "text": [
      "<bound method DataFrame.to_string of                 First Name  Middle Name       Last Name  Phonetic First Name  \\\n",
      "0     Mo. Mohsin Siddique           NaN     CSE LU SIC                   NaN   \n",
      "1      Deepak Kumar Bansal          NaN     CSE LU SIC                   NaN   \n",
      "2            Himanshu Mall          NaN     CSE LU SIC                   NaN   \n",
      "3        Alakh Chaturvedi           NaN     CSE LU SIC                   NaN   \n",
      "4                Pulkeshin          NaN     BCA LU SIC                   NaN   \n",
      "5              Satvik Bari          NaN     BCA LU SIC                   NaN   \n",
      "6            Simple singh           NaN  CSE-AI LU SIC                   NaN   \n",
      "7            Nishant Yadav          NaN     BCA LU SIC                   NaN   \n",
      "8   Ashutosh Kumar Pandey           NaN     ECE LU SIC                   NaN   \n",
      "9      Aditya Pratap Singh          NaN     CSE LU SIC                   NaN   \n",
      "10       Priyanshu Tiwari           NaN     MCA LU SIC                   NaN   \n",
      "11           Aastha Bharti          NaN     BCA LU SIC                   NaN   \n",
      "12          Alok Prajapati          NaN     MCA LU SIC                   NaN   \n",
      "13               Star bawa          NaN     MCA LU SIC                   NaN   \n",
      "14                  Bhoomi          NaN     CSE LU SIC                   NaN   \n",
      "15           Adarsh Shukla          NaN      CE LU SIC                   NaN   \n",
      "16           Archana yadav          NaN     CSE LU SIC                   NaN   \n",
      "17               Raj Hans           NaN     ECE LU SIC                   NaN   \n",
      "18             Tanu Shukla          NaN     CSE LU SIC                   NaN   \n",
      "19       Aditya Choudhary           NaN     CSE LU SIC                   NaN   \n",
      "20       Harshit Kesarwani          NaN     MCA LU SIC                   NaN   \n",
      "21         Abhishek Kumar           NaN     MCA LU SIC                   NaN   \n",
      "22         Mohammad kamran          NaN     CSE LU SIC                   NaN   \n",
      "23               Priyanka           NaN      EE LU SIC                   NaN   \n",
      "24          Supriya Gautam          NaN     BCA LU SIC                   NaN   \n",
      "25           Alark Mishra           NaN     ECE LU SIC                   NaN   \n",
      "26            Somya Goyal           NaN  CSE-AI LU SIC                   NaN   \n",
      "27      Karan Singh Manral          NaN     MCA LU SIC                   NaN   \n",
      "28           Ashish Kumar           NaN     CSE LU SIC                   NaN   \n",
      "29          Diksha Gaurav           NaN     BCA LU SIC                   NaN   \n",
      "30           Aparna Singh           NaN     ECE LU SIC                   NaN   \n",
      "31       NITISH KR MAURYA           NaN     MCA LU SIC                   NaN   \n",
      "32   Abhishek Kumar Singh           NaN     MCA LU SIC                   NaN   \n",
      "33           Priyansh pal           NaN      ME LU SIC                   NaN   \n",
      "34          Kushagra Dixit          NaN     BCA LU SIC                   NaN   \n",
      "35            Krish Yadav           NaN     BCA LU SIC                   NaN   \n",
      "36            Jatin Verma           NaN     BCA LU SIC                   NaN   \n",
      "37           Aqil Rabbani           NaN      EE LU SIC                   NaN   \n",
      "38           Priya Mishra           NaN  CSE-AI LU SIC                   NaN   \n",
      "39        Samriddhi Sharma          NaN     ECE LU SIC                   NaN   \n",
      "40       Aryan Srivastava           NaN     BCA LU SIC                   NaN   \n",
      "41      Pratik Vishwakarma          NaN     CSE LU SIC                   NaN   \n",
      "42         Shivani Rathore          NaN     BCA LU SIC                   NaN   \n",
      "\n",
      "    Phonetic Middle Name  Phonetic Last Name  Name Prefix  Name Suffix  \\\n",
      "0                    NaN                 NaN          NaN          NaN   \n",
      "1                    NaN                 NaN          NaN          NaN   \n",
      "2                    NaN                 NaN          NaN          NaN   \n",
      "3                    NaN                 NaN          NaN          NaN   \n",
      "4                    NaN                 NaN          NaN          NaN   \n",
      "5                    NaN                 NaN          NaN          NaN   \n",
      "6                    NaN                 NaN          NaN          NaN   \n",
      "7                    NaN                 NaN          NaN          NaN   \n",
      "8                    NaN                 NaN          NaN          NaN   \n",
      "9                    NaN                 NaN          NaN          NaN   \n",
      "10                   NaN                 NaN          NaN          NaN   \n",
      "11                   NaN                 NaN          NaN          NaN   \n",
      "12                   NaN                 NaN          NaN          NaN   \n",
      "13                   NaN                 NaN          NaN          NaN   \n",
      "14                   NaN                 NaN          NaN          NaN   \n",
      "15                   NaN                 NaN          NaN          NaN   \n",
      "16                   NaN                 NaN          NaN          NaN   \n",
      "17                   NaN                 NaN          NaN          NaN   \n",
      "18                   NaN                 NaN          NaN          NaN   \n",
      "19                   NaN                 NaN          NaN          NaN   \n",
      "20                   NaN                 NaN          NaN          NaN   \n",
      "21                   NaN                 NaN          NaN          NaN   \n",
      "22                   NaN                 NaN          NaN          NaN   \n",
      "23                   NaN                 NaN          NaN          NaN   \n",
      "24                   NaN                 NaN          NaN          NaN   \n",
      "25                   NaN                 NaN          NaN          NaN   \n",
      "26                   NaN                 NaN          NaN          NaN   \n",
      "27                   NaN                 NaN          NaN          NaN   \n",
      "28                   NaN                 NaN          NaN          NaN   \n",
      "29                   NaN                 NaN          NaN          NaN   \n",
      "30                   NaN                 NaN          NaN          NaN   \n",
      "31                   NaN                 NaN          NaN          NaN   \n",
      "32                   NaN                 NaN          NaN          NaN   \n",
      "33                   NaN                 NaN          NaN          NaN   \n",
      "34                   NaN                 NaN          NaN          NaN   \n",
      "35                   NaN                 NaN          NaN          NaN   \n",
      "36                   NaN                 NaN          NaN          NaN   \n",
      "37                   NaN                 NaN          NaN          NaN   \n",
      "38                   NaN                 NaN          NaN          NaN   \n",
      "39                   NaN                 NaN          NaN          NaN   \n",
      "40                   NaN                 NaN          NaN          NaN   \n",
      "41                   NaN                 NaN          NaN          NaN   \n",
      "42                   NaN                 NaN          NaN          NaN   \n",
      "\n",
      "    Nickname  File As  Organization Name  Organization Title  \\\n",
      "0        NaN      NaN                NaN                 NaN   \n",
      "1        NaN      NaN                NaN                 NaN   \n",
      "2        NaN      NaN                NaN                 NaN   \n",
      "3        NaN      NaN                NaN                 NaN   \n",
      "4        NaN      NaN                NaN                 NaN   \n",
      "5        NaN      NaN                NaN                 NaN   \n",
      "6        NaN      NaN                NaN                 NaN   \n",
      "7        NaN      NaN                NaN                 NaN   \n",
      "8        NaN      NaN                NaN                 NaN   \n",
      "9        NaN      NaN                NaN                 NaN   \n",
      "10       NaN      NaN                NaN                 NaN   \n",
      "11       NaN      NaN                NaN                 NaN   \n",
      "12       NaN      NaN                NaN                 NaN   \n",
      "13       NaN      NaN                NaN                 NaN   \n",
      "14       NaN      NaN                NaN                 NaN   \n",
      "15       NaN      NaN                NaN                 NaN   \n",
      "16       NaN      NaN                NaN                 NaN   \n",
      "17       NaN      NaN                NaN                 NaN   \n",
      "18       NaN      NaN                NaN                 NaN   \n",
      "19       NaN      NaN                NaN                 NaN   \n",
      "20       NaN      NaN                NaN                 NaN   \n",
      "21       NaN      NaN                NaN                 NaN   \n",
      "22       NaN      NaN                NaN                 NaN   \n",
      "23       NaN      NaN                NaN                 NaN   \n",
      "24       NaN      NaN                NaN                 NaN   \n",
      "25       NaN      NaN                NaN                 NaN   \n",
      "26       NaN      NaN                NaN                 NaN   \n",
      "27       NaN      NaN                NaN                 NaN   \n",
      "28       NaN      NaN                NaN                 NaN   \n",
      "29       NaN      NaN                NaN                 NaN   \n",
      "30       NaN      NaN                NaN                 NaN   \n",
      "31       NaN      NaN                NaN                 NaN   \n",
      "32       NaN      NaN                NaN                 NaN   \n",
      "33       NaN      NaN                NaN                 NaN   \n",
      "34       NaN      NaN                NaN                 NaN   \n",
      "35       NaN      NaN                NaN                 NaN   \n",
      "36       NaN      NaN                NaN                 NaN   \n",
      "37       NaN      NaN                NaN                 NaN   \n",
      "38       NaN      NaN                NaN                 NaN   \n",
      "39       NaN      NaN                NaN                 NaN   \n",
      "40       NaN      NaN                NaN                 NaN   \n",
      "41       NaN      NaN                NaN                 NaN   \n",
      "42       NaN      NaN                NaN                 NaN   \n",
      "\n",
      "    Organization Department  Birthday  Notes  Photo        Labels  \\\n",
      "0                       NaN       NaN    NaN    NaN  * myContacts   \n",
      "1                       NaN       NaN    NaN    NaN  * myContacts   \n",
      "2                       NaN       NaN    NaN    NaN  * myContacts   \n",
      "3                       NaN       NaN    NaN    NaN  * myContacts   \n",
      "4                       NaN       NaN    NaN    NaN  * myContacts   \n",
      "5                       NaN       NaN    NaN    NaN  * myContacts   \n",
      "6                       NaN       NaN    NaN    NaN  * myContacts   \n",
      "7                       NaN       NaN    NaN    NaN  * myContacts   \n",
      "8                       NaN       NaN    NaN    NaN  * myContacts   \n",
      "9                       NaN       NaN    NaN    NaN  * myContacts   \n",
      "10                      NaN       NaN    NaN    NaN  * myContacts   \n",
      "11                      NaN       NaN    NaN    NaN  * myContacts   \n",
      "12                      NaN       NaN    NaN    NaN  * myContacts   \n",
      "13                      NaN       NaN    NaN    NaN  * myContacts   \n",
      "14                      NaN       NaN    NaN    NaN  * myContacts   \n",
      "15                      NaN       NaN    NaN    NaN  * myContacts   \n",
      "16                      NaN       NaN    NaN    NaN  * myContacts   \n",
      "17                      NaN       NaN    NaN    NaN  * myContacts   \n",
      "18                      NaN       NaN    NaN    NaN  * myContacts   \n",
      "19                      NaN       NaN    NaN    NaN  * myContacts   \n",
      "20                      NaN       NaN    NaN    NaN  * myContacts   \n",
      "21                      NaN       NaN    NaN    NaN  * myContacts   \n",
      "22                      NaN       NaN    NaN    NaN  * myContacts   \n",
      "23                      NaN       NaN    NaN    NaN  * myContacts   \n",
      "24                      NaN       NaN    NaN    NaN  * myContacts   \n",
      "25                      NaN       NaN    NaN    NaN  * myContacts   \n",
      "26                      NaN       NaN    NaN    NaN  * myContacts   \n",
      "27                      NaN       NaN    NaN    NaN  * myContacts   \n",
      "28                      NaN       NaN    NaN    NaN  * myContacts   \n",
      "29                      NaN       NaN    NaN    NaN  * myContacts   \n",
      "30                      NaN       NaN    NaN    NaN  * myContacts   \n",
      "31                      NaN       NaN    NaN    NaN  * myContacts   \n",
      "32                      NaN       NaN    NaN    NaN  * myContacts   \n",
      "33                      NaN       NaN    NaN    NaN  * myContacts   \n",
      "34                      NaN       NaN    NaN    NaN  * myContacts   \n",
      "35                      NaN       NaN    NaN    NaN  * myContacts   \n",
      "36                      NaN       NaN    NaN    NaN  * myContacts   \n",
      "37                      NaN       NaN    NaN    NaN  * myContacts   \n",
      "38                      NaN       NaN    NaN    NaN  * myContacts   \n",
      "39                      NaN       NaN    NaN    NaN  * myContacts   \n",
      "40                      NaN       NaN    NaN    NaN  * myContacts   \n",
      "41                      NaN       NaN    NaN    NaN  * myContacts   \n",
      "42                      NaN       NaN    NaN    NaN  * myContacts   \n",
      "\n",
      "    Phone 1 - Label  Phone 1 - Value  \n",
      "0               NaN       7081120086  \n",
      "1               NaN       8218259698  \n",
      "2               NaN       8299843639  \n",
      "3               NaN       9580813770  \n",
      "4               NaN       7071484060  \n",
      "5               NaN       9621644684  \n",
      "6               NaN       9415061711  \n",
      "7               NaN       8423364253  \n",
      "8               NaN       6392966564  \n",
      "9               NaN       8887862021  \n",
      "10              NaN       9026172491  \n",
      "11              NaN       6387011672  \n",
      "12              NaN       7054279700  \n",
      "13              NaN       8318407131  \n",
      "14              NaN       9628941710  \n",
      "15              NaN       9140334729  \n",
      "16              NaN       7608043697  \n",
      "17              NaN       9341473271  \n",
      "18              NaN       7905551929  \n",
      "19              NaN       9027343801  \n",
      "20              NaN       9506471172  \n",
      "21              NaN       7903263814  \n",
      "22              NaN       9682703521  \n",
      "23              NaN       6398220473  \n",
      "24              NaN       8924937560  \n",
      "25              NaN       8840601412  \n",
      "26              NaN       9919114874  \n",
      "27              NaN       8318413202  \n",
      "28              NaN       7081250231  \n",
      "29              NaN       9473886521  \n",
      "30              NaN       9651908232  \n",
      "31              NaN       9415206968  \n",
      "32              NaN       6307549073  \n",
      "33              NaN       8840850499  \n",
      "34              NaN       6387022930  \n",
      "35              NaN       6386721737  \n",
      "36              NaN       8896810322  \n",
      "37              NaN       8604080942  \n",
      "38              NaN       9555682094  \n",
      "39              NaN       7007750480  \n",
      "40              NaN       7376790521  \n",
      "41              NaN       9120477812  \n",
      "42              NaN       9808598241  >\n"
     ]
    }
   ],
   "source": [
    "z=pd.read_csv(\"contacts.csv\")\n",
    "print(z.to_string)"
   ]
  },
  {
   "cell_type": "code",
   "execution_count": 5,
   "metadata": {},
   "outputs": [
    {
     "name": "stdout",
     "output_type": "stream",
     "text": [
      "               sum     mean  count\n",
      "Department                        \n",
      "Finance     121000  60500.0      2\n",
      "HR           98000  49000.0      2\n",
      "IT          142000  71000.0      2\n"
     ]
    }
   ],
   "source": [
    "data = {'Department': ['HR', 'Finance', 'IT', 'HR', 'Finance', 'IT'],\n",
    "'Employee': ['John', 'Sarah', 'Mike', 'Anna', 'Tom', 'Sam'],\n",
    "'Salary': [50000, 60000, 70000, 48000, 61000, 72000]\n",
    "}\n",
    "\n",
    "df=pd.DataFrame(data)\n",
    "\n",
    "department_group= df.groupby('Department')['Salary'].agg(['sum','mean','count'])\n",
    "print(department_group)\n",
    "# df_grp1=df.groupby(['Department','Employee'])\n",
    "# df_grp2=df.groupby(['Department','Employee'])['Salary']\n",
    "# df_grp3=df.groupby(['Department','Employee'])['Salary'].sum()\n",
    "# print(df_grp1)\n",
    "# print(df_grp2)\n",
    "# print(df_grp3)"
   ]
  },
  {
   "cell_type": "code",
   "execution_count": 7,
   "metadata": {},
   "outputs": [
    {
     "name": "stdout",
     "output_type": "stream",
     "text": [
      "Employee       Anna     John     Mike      Sam    Sarah      Tom\n",
      "Department                                                      \n",
      "Finance         NaN      NaN      NaN      NaN  60000.0  61000.0\n",
      "HR          48000.0  50000.0      NaN      NaN      NaN      NaN\n",
      "IT              NaN      NaN  70000.0  72000.0      NaN      NaN\n"
     ]
    }
   ],
   "source": [
    "pivot= df.pivot_table(values='Salary',index='Department',columns='Employee',aggfunc='sum')\n",
    "print(pivot)"
   ]
  },
  {
   "cell_type": "code",
   "execution_count": 9,
   "metadata": {},
   "outputs": [
    {
     "name": "stdout",
     "output_type": "stream",
     "text": [
      "Employee    Anna  John  Mike  Sam  Sarah  Tom\n",
      "Department                                   \n",
      "Finance        0     0     0    0      1    1\n",
      "HR             1     1     0    0      0    0\n",
      "IT             0     0     1    1      0    0\n"
     ]
    }
   ],
   "source": [
    "crosstab= pd.crosstab(df['Department'],df[\"Employee\"])\n",
    "print(crosstab)"
   ]
  },
  {
   "cell_type": "code",
   "execution_count": null,
   "metadata": {},
   "outputs": [],
   "source": []
  }
 ],
 "metadata": {
  "kernelspec": {
   "display_name": "base",
   "language": "python",
   "name": "python3"
  },
  "language_info": {
   "codemirror_mode": {
    "name": "ipython",
    "version": 3
   },
   "file_extension": ".py",
   "mimetype": "text/x-python",
   "name": "python",
   "nbconvert_exporter": "python",
   "pygments_lexer": "ipython3",
   "version": "3.12.4"
  }
 },
 "nbformat": 4,
 "nbformat_minor": 2
}
