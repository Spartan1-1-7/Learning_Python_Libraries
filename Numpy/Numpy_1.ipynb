{
 "cells": [
  {
   "cell_type": "code",
   "execution_count": 1,
   "metadata": {},
   "outputs": [
    {
     "name": "stdout",
     "output_type": "stream",
     "text": [
      "2.1.1\n"
     ]
    }
   ],
   "source": [
    "import numpy as np\n",
    "print(np.__version__)"
   ]
  },
  {
   "cell_type": "code",
   "execution_count": 2,
   "metadata": {},
   "outputs": [],
   "source": [
    "a = np.array([1,2,3])"
   ]
  },
  {
   "cell_type": "code",
   "execution_count": 3,
   "metadata": {},
   "outputs": [
    {
     "name": "stdout",
     "output_type": "stream",
     "text": [
      "[1 2 3]\n",
      "(3,)\n",
      "int64\n",
      "1\n",
      "3\n",
      "8\n",
      "1\n",
      "[10  2  3]\n"
     ]
    }
   ],
   "source": [
    "print(a)\n",
    "print(a.shape)\n",
    "print(a.dtype)\n",
    "print(a.ndim)\n",
    "print(a.size)\n",
    "print(a.itemsize)\n",
    "print(a[0])\n",
    "a[0]=10\n",
    "print(a)"
   ]
  },
  {
   "cell_type": "code",
   "execution_count": 4,
   "metadata": {},
   "outputs": [
    {
     "name": "stdout",
     "output_type": "stream",
     "text": [
      "[[1 2 5]\n",
      " [3 4 5]\n",
      " [5 6 7]]\n",
      "(3, 3)\n",
      "9\n"
     ]
    }
   ],
   "source": [
    "b_t=[[1,2,5],[3,4,5],[5,6,7]]\n",
    "b=np.array(b_t)\n",
    "print(b)\n",
    "print(b.shape)\n",
    "print(b.size)"
   ]
  },
  {
   "cell_type": "code",
   "execution_count": 5,
   "metadata": {},
   "outputs": [
    {
     "name": "stdout",
     "output_type": "stream",
     "text": [
      "[20  4  0]\n",
      "(3,)\n"
     ]
    }
   ],
   "source": [
    "c= a* np.array([2,2,0])\n",
    "print(c)\n",
    "print(c.shape)"
   ]
  },
  {
   "cell_type": "code",
   "execution_count": 6,
   "metadata": {},
   "outputs": [
    {
     "name": "stdout",
     "output_type": "stream",
     "text": [
      "[1, 2, 3]\n",
      "[ 5 10 15]\n"
     ]
    }
   ],
   "source": [
    "l=[1,2,3]\n",
    "a = np.array([1,2,3])\n",
    "# l.append(4)\n",
    "# l=l+[5]\n",
    "# a=a+ np.array([4])\n",
    "# l=l*[5]\n",
    "a=a*np.array([5])\n",
    "print(l)\n",
    "print(a)"
   ]
  },
  {
   "cell_type": "code",
   "execution_count": 7,
   "metadata": {},
   "outputs": [
    {
     "name": "stdout",
     "output_type": "stream",
     "text": [
      "32\n"
     ]
    }
   ],
   "source": [
    "# dot product using list\n",
    "l1=[1,2,3]\n",
    "l2=[4,5,6]\n",
    "dot  =0 \n",
    "for i in range(len(l1)):\n",
    "    dot+=l1[i]*l2[i]\n",
    "\n",
    "print(dot)"
   ]
  },
  {
   "cell_type": "code",
   "execution_count": 8,
   "metadata": {},
   "outputs": [
    {
     "name": "stdout",
     "output_type": "stream",
     "text": [
      "32\n"
     ]
    }
   ],
   "source": [
    "# dot product using array \n",
    "a1=np.array(l1)\n",
    "a2=np.array(l2)\n",
    "dot2=np.dot(a1,a2)\n",
    "print(dot2)"
   ]
  },
  {
   "cell_type": "code",
   "execution_count": 9,
   "metadata": {},
   "outputs": [
    {
     "name": "stdout",
     "output_type": "stream",
     "text": [
      "32 32\n"
     ]
    }
   ],
   "source": [
    "dot1=(a1*a2).sum()\n",
    "dot2= a1 @ a2\n",
    "print(dot1,dot2)"
   ]
  },
  {
   "cell_type": "code",
   "execution_count": 10,
   "metadata": {},
   "outputs": [
    {
     "name": "stdout",
     "output_type": "stream",
     "text": [
      "[[1 2 3]\n",
      " [4 5 6]\n",
      " [7 8 9]]\n",
      "(3, 3)\n",
      "[1 2 3]\n",
      "1\n",
      "1\n",
      "[[1 4 7]\n",
      " [2 5 8]\n",
      " [3 6 9]]\n",
      "[[-4.50359963e+15  9.00719925e+15 -4.50359963e+15]\n",
      " [ 9.00719925e+15 -1.80143985e+16  9.00719925e+15]\n",
      " [-4.50359963e+15  9.00719925e+15 -4.50359963e+15]]\n",
      "6.66133814775094e-16\n",
      "[1 5 9]\n",
      "[[1 0 0]\n",
      " [0 5 0]\n",
      " [0 0 9]]\n"
     ]
    }
   ],
   "source": [
    "#  multidimentinal arrays\n",
    "mda= np.array([[1,2,3],[4,5,6],[7,8,9]])\n",
    "print(mda)\n",
    "print(mda.shape)\n",
    "\n",
    "print(mda[0])\n",
    "print(mda[0][0])\n",
    "print(mda[0,0])\n",
    "print(mda.T)\n",
    "print(np.linalg.inv(mda))\n",
    "print(np.linalg.det(mda))\n",
    "c=np.diag(mda)\n",
    "print(c)\n",
    "print(np.diag(c))\n",
    "\n"
   ]
  },
  {
   "cell_type": "code",
   "execution_count": 11,
   "metadata": {},
   "outputs": [
    {
     "name": "stdout",
     "output_type": "stream",
     "text": [
      "[[1 2 3]\n",
      " [4 5 6]\n",
      " [7 8 9]]\n",
      "2\n",
      "[2 3]\n",
      "[2 5 8]\n",
      "[[False False False]\n",
      " [False  True  True]\n",
      " [ True  True  True]]\n",
      "[5 6 7 8 9]\n",
      "[[None None None]\n",
      " [None 5 6]\n",
      " [7 8 9]]\n"
     ]
    }
   ],
   "source": [
    "# slicing arrays\n",
    "mda= np.array([[1,2,3],[4,5,6],[7,8,9]])\n",
    "print(mda)\n",
    "\n",
    "b=mda[0,1]\n",
    "print(b)\n",
    "\n",
    "# row 0\n",
    "print(mda[0,1:3])\n",
    "# colums\n",
    "print(mda[:,1])\n",
    "# boolean index\n",
    "bool_indx=mda>4\n",
    "print(bool_indx)\n",
    "# print(sum(sum(bool_indx)))\n",
    "print(mda[bool_indx])\n",
    "\n",
    "b=np.where(mda>4,mda,None)\n",
    "print(b)\n"
   ]
  },
  {
   "cell_type": "code",
   "execution_count": 12,
   "metadata": {},
   "outputs": [
    {
     "name": "stdout",
     "output_type": "stream",
     "text": [
      "[10 19 30 41 50 61]\n",
      "[19 41 61]\n"
     ]
    }
   ],
   "source": [
    "# fansy indexing\n",
    "a=np.array([10,19,30,41,50,61])\n",
    "print(a)\n",
    "b=[1,3,5]\n",
    "print(a[b])\n"
   ]
  },
  {
   "cell_type": "code",
   "execution_count": 13,
   "metadata": {},
   "outputs": [
    {
     "name": "stdout",
     "output_type": "stream",
     "text": [
      "[10 30 50]\n"
     ]
    }
   ],
   "source": [
    "# finding even ideicies\n",
    "even=np.argwhere(a%2==0).flatten()\n",
    "print(a[even])"
   ]
  },
  {
   "cell_type": "code",
   "execution_count": 26,
   "metadata": {},
   "outputs": [
    {
     "name": "stdout",
     "output_type": "stream",
     "text": [
      "[1 2 3 4 5 6]\n",
      "(6,)\n",
      "[[1 2 3]\n",
      " [4 5 6]]\n",
      "[[1 2 3 4 5 6]]\n",
      "(1, 6)\n"
     ]
    }
   ],
   "source": [
    "# reshaping arrays \n",
    "a = np.arange(1,7)\n",
    "print(a)\n",
    "print(a.shape)\n",
    "b=a.reshape((2,3))\n",
    "print(b)\n",
    "# new axis\n",
    "c=a[np.newaxis,:]\n",
    "print(c)\n",
    "print(c.shape)"
   ]
  },
  {
   "cell_type": "code",
   "execution_count": 32,
   "metadata": {},
   "outputs": [
    {
     "name": "stdout",
     "output_type": "stream",
     "text": [
      "a: [[1 2]\n",
      " [3 4]]\n",
      "b: [[5 6]]\n",
      "[[1 2]\n",
      " [3 4]\n",
      " [5 6]]\n",
      "[[1 2 5]\n",
      " [3 4 6]]\n"
     ]
    }
   ],
   "source": [
    "# concatinating\n",
    "a= np.array([[1,2],[3,4]])\n",
    "print(\"a:\",a)\n",
    "b=np.array([[5,6]])\n",
    "print(\"b:\",b)\n",
    "c=np.concatenate((a,b))\n",
    "print(c)\n",
    "d=np.concatenate((a,b.T),axis=1)\n",
    "print(d)"
   ]
  },
  {
   "cell_type": "code",
   "execution_count": 33,
   "metadata": {},
   "outputs": [
    {
     "name": "stdout",
     "output_type": "stream",
     "text": [
      "[1 2 3 4 5 6 7 8]\n",
      "[[1 2 3 4]\n",
      " [5 6 7 8]]\n"
     ]
    }
   ],
   "source": [
    "a=np.array([1,2,3,4])\n",
    "b=np.array([5,6,7,8])\n",
    "# hstack\n",
    "c=np.hstack((a,b))\n",
    "print(c)\n",
    "d=np.vstack((a,b))\n",
    "print(d)"
   ]
  },
  {
   "cell_type": "code",
   "execution_count": null,
   "metadata": {},
   "outputs": [
    {
     "name": "stdout",
     "output_type": "stream",
     "text": [
      "[[2 2 4]\n",
      " [5 5 7]\n",
      " [2 2 4]\n",
      " [5 5 7]]\n"
     ]
    }
   ],
   "source": [
    "# broadcasting\n",
    "# it allows np to work woth rray of different shapes in various math operations\n",
    "\n",
    "x=np.array([[1,2,3],[4,5,6],[1,2,3],[4,5,6]])\n",
    "a=np.array([1,0,1])\n",
    "y=x+a\n",
    "print(y)\n"
   ]
  },
  {
   "cell_type": "code",
   "execution_count": 42,
   "metadata": {},
   "outputs": [
    {
     "name": "stdout",
     "output_type": "stream",
     "text": [
      "[[ 7  8  9 10 11 12 13]\n",
      " [17 18 19 20 21 22 23]]\n",
      "210\n",
      "210\n",
      "[24 26 28 30 32 34 36]\n",
      "[ 70 140]\n",
      "[10. 20.]\n",
      "[12. 13. 14. 15. 16. 17. 18.]\n",
      "15.0\n",
      "29.0\n",
      "5.385164807134504\n",
      "7\n",
      "23\n"
     ]
    }
   ],
   "source": [
    "# functions and axis\n",
    "a=np.array([[7,8,9,10,11,12,13],[17,18,19,20,21,22,23]])\n",
    "print(a)\n",
    "print(a.sum())\n",
    "print(a.sum(axis=None))\n",
    "print(a.sum(axis=0)) #column wise sum\n",
    "print(a.sum(axis=1)) #row wise sum\n",
    "print(a.mean(axis=1)) #row wise meam\n",
    "print(a.mean(axis=0)) #column wise meam\n",
    "print(a.mean(axis=None)) #overall wise meam\n",
    "print(a.var(axis=None)) #varience\n",
    "print(a.std(axis=None)) #standard deviaton\n",
    "print(a.min(axis=None)) #min val\n",
    "print(a.max(axis=None)) #max val\n",
    "\n"
   ]
  },
  {
   "cell_type": "code",
   "execution_count": 47,
   "metadata": {},
   "outputs": [
    {
     "name": "stdout",
     "output_type": "stream",
     "text": [
      "[1 2]\n",
      "int64\n",
      "[1. 2. 0.]\n",
      "float64\n",
      "[1 2]\n",
      "int64\n",
      "[1 2]\n",
      "int32\n"
     ]
    }
   ],
   "source": [
    "# datatypes\n",
    "x=np.array([1,2])\n",
    "print(x)\n",
    "print(x.dtype)\n",
    "x=np.array([1.0,2,0])\n",
    "print(x)\n",
    "print(x.dtype)\n",
    "x=np.array([1.0,2.0], dtype=np.int64)\n",
    "print(x)\n",
    "print(x.dtype)\n",
    "x=np.array([1.0,2.0], dtype=np.int32)\n",
    "print(x)\n",
    "print(x.dtype)"
   ]
  },
  {
   "cell_type": "code",
   "execution_count": 56,
   "metadata": {},
   "outputs": [
    {
     "name": "stdout",
     "output_type": "stream",
     "text": [
      "[42  2  3]\n",
      "[42  2  3]\n",
      "[ 1 53  3]\n"
     ]
    }
   ],
   "source": [
    "# copying arrays\n",
    "a= np.array([1,2,3])\n",
    "b=a\n",
    "c=a.copy()\n",
    "b[0]=42\n",
    "c[1]=53\n",
    "print(a)\n",
    "print(b)\n",
    "print(c)\n"
   ]
  },
  {
   "cell_type": "code",
   "execution_count": 61,
   "metadata": {},
   "outputs": [
    {
     "name": "stdout",
     "output_type": "stream",
     "text": [
      "[[0. 0. 0.]\n",
      " [0. 0. 0.]]\n",
      "[[1. 1. 1.]\n",
      " [1. 1. 1.]]\n",
      "[[5. 5. 5.]\n",
      " [5. 5. 5.]]\n",
      "[[1. 0. 0.]\n",
      " [0. 1. 0.]\n",
      " [0. 0. 1.]]\n",
      "[ 0  1  2  3  4  5  6  7  8  9 10 11 12 13 14 15 16 17 18 19]\n",
      "[ 0.  5. 10.]\n"
     ]
    }
   ],
   "source": [
    "# generating arrays\n",
    "a=np.zeros((2,3))\n",
    "print(a)\n",
    "b=np.ones((2,3))\n",
    "print(b)\n",
    "\n",
    "c=np.full((2,3),5.0)\n",
    "print(c)\n",
    "d=np.eye(3)\n",
    "print(d)\n",
    "\n",
    "e=np.arange(20)\n",
    "print(e)\n",
    "\n",
    "f=np.linspace(0,10,3)\n",
    "print(f)"
   ]
  },
  {
   "cell_type": "code",
   "execution_count": 76,
   "metadata": {},
   "outputs": [
    {
     "name": "stdout",
     "output_type": "stream",
     "text": [
      "[[0.84966871 0.57932263]\n",
      " [0.3253745  0.4021517 ]\n",
      " [0.55635076 0.48468605]]\n",
      "[[-0.54908318  1.19620653]\n",
      " [-0.11480081 -1.5804177 ]\n",
      " [-0.70306867  1.40218312]]\n",
      "-0.05816345117625602 1.1139044749961189\n",
      "[[1 0 3]\n",
      " [4 3 0]\n",
      " [6 7 6]]\n",
      "[[-7 -8 -7]\n",
      " [-6 -6 -8]\n",
      " [-7 -8 -8]]\n"
     ]
    }
   ],
   "source": [
    "# random numbers\n",
    "a=np.random.random((3,2)) # randome number betwen 0-1\n",
    "print(a)\n",
    "b=np.random.randn(3,2)#noraml/gaussian distrubtuon\n",
    "print(b)\n",
    "print(b.mean(),b.var())\n",
    "c=np.random.randint(10,size=(3,3))\n",
    "print(c)\n",
    "d=np.random.choice([-8,-7,-6],size=(3,3))\n",
    "print(d)"
   ]
  },
  {
   "cell_type": "code",
   "execution_count": null,
   "metadata": {},
   "outputs": [
    {
     "name": "stdout",
     "output_type": "stream",
     "text": [
      "[-0.37228132  5.37228132]\n",
      "[[-0.82456484 -0.41597356]\n",
      " [ 0.56576746 -0.90937671]]\n",
      "[ 0.30697009 -0.21062466]\n",
      "[ 0.30697009 -0.21062466]\n",
      "True\n"
     ]
    }
   ],
   "source": [
    "# linear algebra (linag module)\n",
    "\n",
    "a=np.array([[1,2],[3,4]])\n",
    "eigenvalues,eigenvectors=np.linalg.eig(a)\n",
    "print(eigenvalues)\n",
    "print(eigenvectors) #column vector\n",
    "\n",
    "# e_vec*E_val=A*e_vec\n",
    "b=eigenvectors[:,0]*eigenvalues[0]\n",
    "print(b)\n",
    "c=a @ eigenvectors[:,0]\n",
    "print(c)\n",
    "print(np.allclose(b,c))\n",
    "\n",
    "\n",
    "\n",
    "\n"
   ]
  },
  {
   "cell_type": "code",
   "execution_count": 85,
   "metadata": {},
   "outputs": [
    {
     "name": "stdout",
     "output_type": "stream",
     "text": [
      "[[1500.]\n",
      " [ 700.]]\n",
      "[[1500.]\n",
      " [ 700.]]\n"
     ]
    }
   ],
   "source": [
    "# solving linear eq with np\n",
    "# x1 + x2 = 2200\n",
    "# 1.5 x1 + 4.0 x2 = 5050\n",
    "# X=[[x1],[x2]] A=[[1,1],[1.5,4.0]] B=[[2200],[5050]]\n",
    "\n",
    "#manual method\n",
    "\n",
    "A=np.array([[1,1],[1.5,4.0]])\n",
    "B=np.array([[2200],[5050]])\n",
    "\n",
    "x=(np.linalg.inv(A)) @ B\n",
    "print(x)\n",
    "\n",
    "# linalg solve function\n",
    "x=np.linalg.solve(A,B)\n",
    "print(x)"
   ]
  },
  {
   "cell_type": "code",
   "execution_count": 88,
   "metadata": {},
   "outputs": [
    {
     "name": "stdout",
     "output_type": "stream",
     "text": [
      "(4601, 58)\n",
      "(4601, 58)\n"
     ]
    }
   ],
   "source": [
    "# loading csv files\n",
    "# np.loadtxt and np.genfromtxt\n",
    "\n",
    "data= np.loadtxt('spambase.csv', delimiter=',', dtype=np.float32)\n",
    "print(data.shape)\n",
    "data2=np.genfromtxt('spambase.csv',delimiter=',',dtype=np.float32)\n",
    "print(data2.shape)"
   ]
  },
  {
   "cell_type": "code",
   "execution_count": null,
   "metadata": {},
   "outputs": [],
   "source": []
  }
 ],
 "metadata": {
  "kernelspec": {
   "display_name": "venv_numpy",
   "language": "python",
   "name": "python3"
  },
  "language_info": {
   "codemirror_mode": {
    "name": "ipython",
    "version": 3
   },
   "file_extension": ".py",
   "mimetype": "text/x-python",
   "name": "python",
   "nbconvert_exporter": "python",
   "pygments_lexer": "ipython3",
   "version": "3.12.7"
  }
 },
 "nbformat": 4,
 "nbformat_minor": 2
}
